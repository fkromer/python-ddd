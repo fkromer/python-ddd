{
 "metadata": {
  "language_info": {
   "name": "python",
   "version": "3.10.9",
   "mimetype": "text/x-python",
   "codemirror_mode": {
    "name": "ipython",
    "version": 3
   },
   "pygments_lexer": "ipython3",
   "nbconvert_exporter": "python",
   "file_extension": ".py"
  },
  "kernelspec": {
   "name": "python3",
   "display_name": "Python 3 (ipykernel)",
   "language": "python"
  }
 },
 "nbformat_minor": 5,
 "nbformat": 4,
 "cells": [
  {
   "cell_type": "code",
   "execution_count": 230,
   "outputs": [],
   "source": [
    "from pydantic import BaseModel\n",
    "from typing import List\n",
    "\n",
    "\n",
    "class Car(BaseModel):\n",
    "    brand: str\n",
    "\n",
    "\n",
    "class Cars(BaseModel):\n",
    "    __root__: List[Car] = []"
   ],
   "metadata": {
    "collapsed": false,
    "pycharm": {
     "name": "#%%\n"
    }
   }
  },
  {
   "cell_type": "code",
   "execution_count": 231,
   "outputs": [
    {
     "data": {
      "text/plain": "Cars(__root__=[Car(brand='Audi'), Car(brand='BMW')])"
     },
     "execution_count": 231,
     "metadata": {},
     "output_type": "execute_result"
    }
   ],
   "source": [
    "# assign cars during instance creation\n",
    "cars = Cars(__root__=[Car(brand=\"Audi\"), Car(brand=\"BMW\")])\n",
    "cars"
   ],
   "metadata": {
    "collapsed": false,
    "pycharm": {
     "name": "#%%\n"
    }
   }
  },
  {
   "cell_type": "code",
   "execution_count": 235,
   "outputs": [
    {
     "data": {
      "text/plain": "'[{\"brand\": \"Audi\"}, {\"brand\": \"BMW\"}]'"
     },
     "execution_count": 235,
     "metadata": {},
     "output_type": "execute_result"
    }
   ],
   "source": [
    "# we get valid JSON\n",
    "cars.json()"
   ],
   "metadata": {
    "collapsed": false,
    "pycharm": {
     "name": "#%%\n"
    }
   }
  },
  {
   "cell_type": "code",
   "execution_count": 233,
   "outputs": [
    {
     "data": {
      "text/plain": "Cars(__root__=[Car(brand='Audi'), Car(brand='BMW')])"
     },
     "execution_count": 233,
     "metadata": {},
     "output_type": "execute_result"
    }
   ],
   "source": [
    "# assign cars after instance creation\n",
    "cars = Cars()\n",
    "cars.__root__=[Car(brand=\"Audi\"), Car(brand=\"BMW\")]\n",
    "cars"
   ],
   "metadata": {
    "collapsed": false,
    "pycharm": {
     "name": "#%%\n"
    }
   }
  },
  {
   "cell_type": "code",
   "execution_count": 178,
   "outputs": [],
   "source": [
    "from pydantic import BaseModel\n",
    "from typing import List\n",
    "\n",
    "\n",
    "class Passenger(BaseModel):\n",
    "    name: str\n",
    "    age: int\n",
    "\n",
    "\n",
    "class Car(BaseModel):\n",
    "    brand: str\n",
    "    passengers: List[Passenger] = []"
   ],
   "metadata": {
    "collapsed": false,
    "pycharm": {
     "name": "#%%\n"
    }
   }
  },
  {
   "cell_type": "code",
   "execution_count": 179,
   "outputs": [
    {
     "data": {
      "text/plain": "Car(brand='Audi', passengers=[Passenger(name='Hans', age=21), Passenger(name='Martin', age=23)])"
     },
     "execution_count": 179,
     "metadata": {},
     "output_type": "execute_result"
    }
   ],
   "source": [
    "car = Car(\n",
    "    brand=\"Audi\",\n",
    "    passengers=[\n",
    "        Passenger(name=\"Hans\", age=21),\n",
    "        Passenger(name=\"Martin\", age=23),\n",
    "    ])\n",
    "car"
   ],
   "metadata": {
    "collapsed": false,
    "pycharm": {
     "name": "#%%\n"
    }
   }
  },
  {
   "cell_type": "code",
   "execution_count": 180,
   "outputs": [
    {
     "data": {
      "text/plain": "'{\"brand\": \"Audi\", \"passengers\": [{\"name\": \"Hans\", \"age\": 21}, {\"name\": \"Martin\", \"age\": 23}]}'"
     },
     "execution_count": 180,
     "metadata": {},
     "output_type": "execute_result"
    }
   ],
   "source": [
    "car.json()"
   ],
   "metadata": {
    "collapsed": false,
    "pycharm": {
     "name": "#%%\n"
    }
   }
  },
  {
   "cell_type": "code",
   "execution_count": 181,
   "outputs": [
    {
     "data": {
      "text/plain": "Car(brand='Audi', passengers=[])"
     },
     "execution_count": 181,
     "metadata": {},
     "output_type": "execute_result"
    }
   ],
   "source": [
    "empty_car = Car(\n",
    "    brand=\"Audi\",\n",
    ")\n",
    "empty_car"
   ],
   "metadata": {
    "collapsed": false,
    "pycharm": {
     "name": "#%%\n"
    }
   }
  },
  {
   "cell_type": "code",
   "execution_count": 182,
   "outputs": [
    {
     "data": {
      "text/plain": "'{\"brand\": \"Audi\", \"passengers\": []}'"
     },
     "execution_count": 182,
     "metadata": {},
     "output_type": "execute_result"
    }
   ],
   "source": [
    "empty_car.json()"
   ],
   "metadata": {
    "collapsed": false,
    "pycharm": {
     "name": "#%%\n"
    }
   }
  },
  {
   "cell_type": "code",
   "execution_count": 183,
   "outputs": [
    {
     "ename": "AttributeError",
     "evalue": "'list' object has no attribute 'json'",
     "output_type": "error",
     "traceback": [
      "\u001B[0;31m---------------------------------------------------------------------------\u001B[0m",
      "\u001B[0;31mAttributeError\u001B[0m                            Traceback (most recent call last)",
      "Cell \u001B[0;32mIn[183], line 1\u001B[0m\n\u001B[0;32m----> 1\u001B[0m \u001B[43mcar\u001B[49m\u001B[38;5;241;43m.\u001B[39;49m\u001B[43mpassengers\u001B[49m\u001B[38;5;241;43m.\u001B[39;49m\u001B[43mjson\u001B[49m()\n",
      "\u001B[0;31mAttributeError\u001B[0m: 'list' object has no attribute 'json'"
     ]
    }
   ],
   "source": [
    "car.passengers.json()"
   ],
   "metadata": {
    "collapsed": false,
    "pycharm": {
     "name": "#%%\n"
    }
   }
  },
  {
   "cell_type": "code",
   "execution_count": 236,
   "outputs": [],
   "source": [
    "from pydantic import BaseModel\n",
    "from typing import List\n",
    "\n",
    "\n",
    "class Passenger(BaseModel):\n",
    "    name: str\n",
    "    age: int\n",
    "\n",
    "\n",
    "class Passengers(BaseModel):\n",
    "    __root__: List[Passenger] = []\n",
    "\n",
    "\n",
    "class Car(BaseModel):\n",
    "    brand: str\n",
    "    passengers: Passengers"
   ],
   "metadata": {
    "collapsed": false,
    "pycharm": {
     "name": "#%%\n"
    }
   }
  },
  {
   "cell_type": "code",
   "execution_count": 237,
   "outputs": [
    {
     "data": {
      "text/plain": "Car(brand='Audi', passengers=Passengers(__root__=[Passenger(name='Hans', age=21), Passenger(name='Martin', age=23)]))"
     },
     "execution_count": 237,
     "metadata": {},
     "output_type": "execute_result"
    }
   ],
   "source": [
    "car = Car(\n",
    "    brand=\"Audi\",\n",
    "    passengers=[\n",
    "        Passenger(name=\"Hans\", age=21),\n",
    "        Passenger(name=\"Martin\", age=23),\n",
    "    ])\n",
    "car"
   ],
   "metadata": {
    "collapsed": false,
    "pycharm": {
     "name": "#%%\n"
    }
   }
  },
  {
   "cell_type": "code",
   "execution_count": 238,
   "outputs": [
    {
     "data": {
      "text/plain": "'{\"brand\": \"Audi\", \"passengers\": [{\"name\": \"Hans\", \"age\": 21}, {\"name\": \"Martin\", \"age\": 23}]}'"
     },
     "execution_count": 238,
     "metadata": {},
     "output_type": "execute_result"
    }
   ],
   "source": [
    "car.json()"
   ],
   "metadata": {
    "collapsed": false,
    "pycharm": {
     "name": "#%%\n"
    }
   }
  },
  {
   "cell_type": "code",
   "execution_count": 239,
   "outputs": [
    {
     "data": {
      "text/plain": "'[{\"name\": \"Hans\", \"age\": 21}, {\"name\": \"Martin\", \"age\": 23}]'"
     },
     "execution_count": 239,
     "metadata": {},
     "output_type": "execute_result"
    }
   ],
   "source": [
    "car.passengers.json()"
   ],
   "metadata": {
    "collapsed": false,
    "pycharm": {
     "name": "#%%\n"
    }
   }
  },
  {
   "cell_type": "code",
   "execution_count": 240,
   "outputs": [
    {
     "ename": "ValidationError",
     "evalue": "1 validation error for Car\npassengers\n  field required (type=value_error.missing)",
     "output_type": "error",
     "traceback": [
      "\u001B[0;31m---------------------------------------------------------------------------\u001B[0m",
      "\u001B[0;31mValidationError\u001B[0m                           Traceback (most recent call last)",
      "Cell \u001B[0;32mIn[240], line 1\u001B[0m\n\u001B[0;32m----> 1\u001B[0m empty_car \u001B[38;5;241m=\u001B[39m \u001B[43mCar\u001B[49m\u001B[43m(\u001B[49m\n\u001B[1;32m      2\u001B[0m \u001B[43m    \u001B[49m\u001B[43mbrand\u001B[49m\u001B[38;5;241;43m=\u001B[39;49m\u001B[38;5;124;43m\"\u001B[39;49m\u001B[38;5;124;43mAudi\u001B[39;49m\u001B[38;5;124;43m\"\u001B[39;49m\u001B[43m,\u001B[49m\n\u001B[1;32m      3\u001B[0m \u001B[43m)\u001B[49m\n\u001B[1;32m      4\u001B[0m empty_car\n",
      "File \u001B[0;32m~/weekend/python-ddd/venv/lib/python3.10/site-packages/pydantic/main.py:342\u001B[0m, in \u001B[0;36mpydantic.main.BaseModel.__init__\u001B[0;34m()\u001B[0m\n",
      "\u001B[0;31mValidationError\u001B[0m: 1 validation error for Car\npassengers\n  field required (type=value_error.missing)"
     ]
    }
   ],
   "source": [
    "empty_car = Car(\n",
    "    brand=\"Audi\",\n",
    ")\n",
    "empty_car"
   ],
   "metadata": {
    "collapsed": false,
    "pycharm": {
     "name": "#%%\n"
    }
   }
  },
  {
   "cell_type": "code",
   "execution_count": 196,
   "outputs": [
    {
     "data": {
      "text/plain": "'{\"brand\": \"Audi\", \"passengers\": []}'"
     },
     "execution_count": 196,
     "metadata": {},
     "output_type": "execute_result"
    }
   ],
   "source": [
    "empty_car.json()"
   ],
   "metadata": {
    "collapsed": false,
    "pycharm": {
     "name": "#%%\n"
    }
   }
  },
  {
   "cell_type": "code",
   "execution_count": 241,
   "outputs": [
    {
     "ename": "AttributeError",
     "evalue": "'list' object has no attribute 'json'",
     "output_type": "error",
     "traceback": [
      "\u001B[0;31m---------------------------------------------------------------------------\u001B[0m",
      "\u001B[0;31mAttributeError\u001B[0m                            Traceback (most recent call last)",
      "Cell \u001B[0;32mIn[241], line 1\u001B[0m\n\u001B[0;32m----> 1\u001B[0m \u001B[43mempty_car\u001B[49m\u001B[38;5;241;43m.\u001B[39;49m\u001B[43mpassengers\u001B[49m\u001B[38;5;241;43m.\u001B[39;49m\u001B[43mjson\u001B[49m()\n",
      "\u001B[0;31mAttributeError\u001B[0m: 'list' object has no attribute 'json'"
     ]
    }
   ],
   "source": [
    "empty_car.passengers.json()"
   ],
   "metadata": {
    "collapsed": false,
    "pycharm": {
     "name": "#%%\n"
    }
   }
  },
  {
   "cell_type": "code",
   "execution_count": 149,
   "outputs": [],
   "source": [
    "# simplyfied production code of entity aggregate root (entity which acts as aggregate root), entities and value objects\n",
    "from pydantic import BaseModel\n",
    "\n",
    "from typing import List, Optional\n",
    "\n",
    "\n",
    "class ValueObject(BaseModel):\n",
    "    ...\n",
    "\n",
    "    class Config:\n",
    "        frozen = True\n",
    "\n",
    "\n",
    "class Entity(BaseModel):\n",
    "    ...\n",
    "\n",
    "\n",
    "class AggregateRoot(Entity):\n",
    "    ...\n",
    "\n",
    "\n",
    "class Order(AggregateRoot):\n",
    "    id: int\n",
    "    order_lines: 'OrderLines'\n",
    "    overall_price: int = 0\n",
    "\n",
    "    def add_order_line(self, order_line: 'OrderLine') -> None:\n",
    "        self.order_lines.append(order_line)\n",
    "        self.overall_price += order_line.product_count * order_line.product.price\n",
    "\n",
    "\n",
    "class Product(Entity):\n",
    "    product_number: int\n",
    "    price: int\n",
    "\n",
    "\n",
    "class OrderLines(BaseModel):\n",
    "    __root__: List['OrderLine']\n",
    "\n",
    "\n",
    "class OrderLine(ValueObject):\n",
    "    product: 'Product'\n",
    "    product_count: int"
   ],
   "metadata": {
    "collapsed": false,
    "pycharm": {
     "name": "#%%\n"
    }
   }
  },
  {
   "cell_type": "code",
   "source": [
    "# production code for repository\n",
    "import sqlite3\n",
    "\n",
    "from typing import Protocol\n",
    "\n",
    "\n",
    "# option A: The \"I prefer composition over inheritance\" way of defining an interface for repositories (typing without inheritance).\n",
    "class OrderRepository(Protocol):\n",
    "    \"\"\"Defines the interface (methods) the concrete repository of the order entity needs to satisfy.\"\"\"\n",
    "    def add(self, order: Order) -> None:\n",
    "        \"\"\"Adds an order to persisted orders.\"\"\"\n",
    "\n",
    "    def get(self, order_id: int) -> Order:\n",
    "        \"\"\"Gets an order from persisted orders.\"\"\"\n",
    "\n",
    "    def remove(self, order_id: int) -> None:\n",
    "        \"\"\"Removes an order from persisted orders.\"\"\"\n",
    "\n",
    "\n",
    "class FakeProtocolOrderRepository:\n",
    "    \"\"\"Fake implementation of a concrete repository (using protocol) which uses memors for perstisting orders.\"\"\"\n",
    "    def __init__(self):\n",
    "        self._orders = []\n",
    "\n",
    "    def add(self, order: Order) -> None:\n",
    "        self._orders.append(order)\n",
    "\n",
    "    def get(self, order_id: int) -> Order:\n",
    "        for order in self._orders:\n",
    "            if order_id == order.id:\n",
    "                return order\n",
    "\n",
    "    def remove(self, order_id: int) -> None:\n",
    "        for order in self._orders:\n",
    "            if order_id == order.id:\n",
    "                self._orders.remove(order)\n",
    "                return\n",
    "\n",
    "\n",
    "class SqliteProtocolOrderRepository:\n",
    "    \"\"\"Implementation of a concrete repository (using protocol) which uses SQLite database for persisting orders.\"\"\"\n",
    "    def __init__(self, con: sqlite3.Connection = sqlite3.connect(\"file::memory:?cache=shared\")):\n",
    "        self._con = con\n",
    "\n",
    "    def setup(self):\n",
    "        self._con.execute(\"\"\"\n",
    "            CREATE TABLE \"order\" (\n",
    "            \"id\" INTEGER NOT NULL UNIQUE,\n",
    "            \"order_lines\" TEXT NOT NULL,\n",
    "            \"overall_price\" INTEGER NOT NULL,\n",
    "            PRIMARY KEY(\"id\")\n",
    "            );\n",
    "        \"\"\")\n",
    "        self._con.commit()\n",
    "        self._con.close()\n",
    "\n",
    "    def add(self, order: Order) -> None:\n",
    "        self._con.execute(f\"INSERT INTO order (id, order_lines, overall_price) VALUES({order.id}, {order.order_lines.json()}, {order.overall_price});\")\n",
    "        self._con.commit()\n",
    "        self._con.close()\n",
    "\n",
    "    def get(self, order_id: int) -> Order:\n",
    "        self._con.execute(f\"SELECT * FROM order WHERE id={order_id};\")\n",
    "        self._con.close()\n",
    "\n",
    "    def remove(self, order_id: int) -> None:\n",
    "        self._con.execute(f\"DELETE FROM order WHERE id={order_id};\")\n",
    "        self._con.commit()\n",
    "        self._con.close()\n"
   ],
   "metadata": {},
   "execution_count": 150,
   "outputs": [],
   "id": "b82fea59-1251-48ee-a5e8-dfb9389d80bb"
  },
  {
   "cell_type": "code",
   "execution_count": 151,
   "outputs": [],
   "source": [
    "# option B: The \"I prefer inheritance over composition\" way of defining an interface for repositories (inheriting, no typing).\n",
    "import abc\n",
    "\n",
    "\n",
    "class AbstractOrderRepository(abc.ABC):\n",
    "    \"\"\"Defines an abstract base class the concrete repository of the order entity needs to inherit from.\"\"\"\n",
    "    @abc.abstractmethod\n",
    "    def add(self, order: Order) -> None:\n",
    "        \"\"\"Adds an order to persisted orders.\"\"\"\n",
    "        raise NotImplementedError\n",
    "\n",
    "    @abc.abstractmethod\n",
    "    def get(self, order_id: int) -> Order:\n",
    "        \"\"\"Gets an order from persisted orders.\"\"\"\n",
    "        raise NotImplementedError\n",
    "\n",
    "    @abc.abstractmethod\n",
    "    def remove(self, order_id: int) -> None:\n",
    "        \"\"\"Removes an order from persisted orders.\"\"\"\n",
    "        raise NotImplementedError\n",
    "\n",
    "\n",
    "class FakeAbcOrderRepository(AbstractOrderRepository):\n",
    "    \"\"\"Fake implementation of a concrete repository which uses memory for perstisting orders.\"\"\"\n",
    "\n",
    "    def __init__(self):\n",
    "        self._orders = []\n",
    "\n",
    "    def add(self, order: Order) -> None:\n",
    "        self._orders.append(order)\n",
    "\n",
    "    def get(self, order_id: int) -> Order:\n",
    "        return next(o for o in self._orders if o.order_id == order_id)\n",
    "\n",
    "    def remove(self, order_id: int) -> None:\n",
    "        for order in self._orders:\n",
    "            if order_id == order.order_id:\n",
    "                self._orders.remove(order)\n",
    "                return\n",
    "        return"
   ],
   "metadata": {
    "collapsed": false,
    "pycharm": {
     "name": "#%%\n"
    }
   }
  },
  {
   "cell_type": "markdown",
   "source": [
    "- 1 repository per 1 aggregate root <-> 1 aggregate root per 1 repository\n",
    "- In CRUD apps the model depends on ORM\n",
    "- Repository inverts the dependency (dependency inversion) between persistence layer and model. The persistence layer (ORM) depends on the model. Instead of: Model depends on the persistence layer.\n",
    "- Repository is abstraction of premanent storage."
   ],
   "metadata": {},
   "id": "98c9f51b-fa87-407a-bb3c-c99f4cd80b46"
  },
  {
   "cell_type": "code",
   "source": [
    "order_1 = Order(id=1)\n",
    "order_1.add_order_line(OrderLine(product=Product(product_number=11, price=100), product_count=1))\n",
    "order_1.add_order_line(OrderLine(product=Product(product_number=12, price=200), product_count=2))\n",
    "order_1"
   ],
   "metadata": {
    "trusted": true
   },
   "execution_count": 152,
   "outputs": [
    {
     "ename": "AttributeError",
     "evalue": "'NoneType' object has no attribute 'append'",
     "output_type": "error",
     "traceback": [
      "\u001B[0;31m---------------------------------------------------------------------------\u001B[0m",
      "\u001B[0;31mAttributeError\u001B[0m                            Traceback (most recent call last)",
      "Cell \u001B[0;32mIn[152], line 2\u001B[0m\n\u001B[1;32m      1\u001B[0m order_1 \u001B[38;5;241m=\u001B[39m Order(\u001B[38;5;28mid\u001B[39m\u001B[38;5;241m=\u001B[39m\u001B[38;5;241m1\u001B[39m)\n\u001B[0;32m----> 2\u001B[0m \u001B[43morder_1\u001B[49m\u001B[38;5;241;43m.\u001B[39;49m\u001B[43madd_order_line\u001B[49m\u001B[43m(\u001B[49m\u001B[43mOrderLine\u001B[49m\u001B[43m(\u001B[49m\u001B[43mproduct\u001B[49m\u001B[38;5;241;43m=\u001B[39;49m\u001B[43mProduct\u001B[49m\u001B[43m(\u001B[49m\u001B[43mproduct_number\u001B[49m\u001B[38;5;241;43m=\u001B[39;49m\u001B[38;5;241;43m11\u001B[39;49m\u001B[43m,\u001B[49m\u001B[43m \u001B[49m\u001B[43mprice\u001B[49m\u001B[38;5;241;43m=\u001B[39;49m\u001B[38;5;241;43m100\u001B[39;49m\u001B[43m)\u001B[49m\u001B[43m,\u001B[49m\u001B[43m \u001B[49m\u001B[43mproduct_count\u001B[49m\u001B[38;5;241;43m=\u001B[39;49m\u001B[38;5;241;43m1\u001B[39;49m\u001B[43m)\u001B[49m\u001B[43m)\u001B[49m\n\u001B[1;32m      3\u001B[0m order_1\u001B[38;5;241m.\u001B[39madd_order_line(OrderLine(product\u001B[38;5;241m=\u001B[39mProduct(product_number\u001B[38;5;241m=\u001B[39m\u001B[38;5;241m12\u001B[39m, price\u001B[38;5;241m=\u001B[39m\u001B[38;5;241m200\u001B[39m), product_count\u001B[38;5;241m=\u001B[39m\u001B[38;5;241m2\u001B[39m))\n\u001B[1;32m      4\u001B[0m order_1\n",
      "Cell \u001B[0;32mIn[149], line 28\u001B[0m, in \u001B[0;36mOrder.add_order_line\u001B[0;34m(self, order_line)\u001B[0m\n\u001B[1;32m     27\u001B[0m \u001B[38;5;28;01mdef\u001B[39;00m \u001B[38;5;21madd_order_line\u001B[39m(\u001B[38;5;28mself\u001B[39m, order_line: \u001B[38;5;124m'\u001B[39m\u001B[38;5;124mOrderLine\u001B[39m\u001B[38;5;124m'\u001B[39m) \u001B[38;5;241m-\u001B[39m\u001B[38;5;241m>\u001B[39m \u001B[38;5;28;01mNone\u001B[39;00m:\n\u001B[0;32m---> 28\u001B[0m     \u001B[38;5;28;43mself\u001B[39;49m\u001B[38;5;241;43m.\u001B[39;49m\u001B[43morder_lines\u001B[49m\u001B[38;5;241;43m.\u001B[39;49m\u001B[43mappend\u001B[49m(order_line)\n\u001B[1;32m     29\u001B[0m     \u001B[38;5;28mself\u001B[39m\u001B[38;5;241m.\u001B[39moverall_price \u001B[38;5;241m+\u001B[39m\u001B[38;5;241m=\u001B[39m order_line\u001B[38;5;241m.\u001B[39mproduct_count \u001B[38;5;241m*\u001B[39m order_line\u001B[38;5;241m.\u001B[39mproduct\u001B[38;5;241m.\u001B[39mprice\n",
      "\u001B[0;31mAttributeError\u001B[0m: 'NoneType' object has no attribute 'append'"
     ]
    }
   ],
   "id": "3b2f5fe9-6d8b-416f-a164-b9f5487522e7"
  },
  {
   "cell_type": "code",
   "source": [
    "order_2 = Order(id=2)\n",
    "order_2.add_order_line(OrderLine(product=Product(product_number=21, price=300), product_count=3))\n",
    "order_2.add_order_line(OrderLine(product=Product(product_number=22, price=400), product_count=4))\n",
    "order_2"
   ],
   "metadata": {
    "trusted": true
   },
   "execution_count": 138,
   "outputs": [
    {
     "data": {
      "text/plain": "Order(id=2, order_lines=[OrderLine(product=Product(product_number=21, price=300), product_count=3), OrderLine(product=Product(product_number=22, price=400), product_count=4)], overall_price=2500)"
     },
     "execution_count": 138,
     "metadata": {},
     "output_type": "execute_result"
    }
   ],
   "id": "0fd659ad-b388-48fb-aad6-2216882d1682"
  },
  {
   "cell_type": "code",
   "source": [
    "fake_protocol_permanent_storage = FakeProtocolOrderRepository()\n",
    "fake_protocol_permanent_storage.add(order_1)\n",
    "fake_protocol_permanent_storage.add(order_2)\n",
    "fake_protocol_permanent_storage"
   ],
   "metadata": {
    "trusted": true
   },
   "execution_count": 139,
   "outputs": [
    {
     "data": {
      "text/plain": "<__main__.FakeProtocolOrderRepository at 0x10defe980>"
     },
     "execution_count": 139,
     "metadata": {},
     "output_type": "execute_result"
    }
   ],
   "id": "507c4297-9cde-4808-b684-fd3d8318ae30"
  },
  {
   "cell_type": "code",
   "source": [
    "order_1_from_permanent_storage = fake_protocol_permanent_storage.get(1)\n",
    "order_1_from_permanent_storage"
   ],
   "metadata": {
    "trusted": true
   },
   "execution_count": 140,
   "outputs": [
    {
     "data": {
      "text/plain": "Order(id=1, order_lines=[OrderLine(product=Product(product_number=11, price=100), product_count=1), OrderLine(product=Product(product_number=12, price=200), product_count=2)], overall_price=500)"
     },
     "execution_count": 140,
     "metadata": {},
     "output_type": "execute_result"
    }
   ],
   "id": "8827913a-84aa-46de-be00-597d6f964f47"
  },
  {
   "cell_type": "code",
   "source": [
    "order_2_from_permanent_storage = fake_protocol_permanent_storage.get(2)\n",
    "order_2_from_permanent_storage"
   ],
   "metadata": {
    "trusted": true
   },
   "execution_count": 141,
   "outputs": [
    {
     "data": {
      "text/plain": "Order(id=2, order_lines=[OrderLine(product=Product(product_number=21, price=300), product_count=3), OrderLine(product=Product(product_number=22, price=400), product_count=4)], overall_price=2500)"
     },
     "execution_count": 141,
     "metadata": {},
     "output_type": "execute_result"
    }
   ],
   "id": "eaff9572-28ef-4ab7-8324-00048f5bfd65"
  },
  {
   "cell_type": "code",
   "source": [
    "order_repo = SqliteProtocolOrderRepository()"
   ],
   "metadata": {},
   "execution_count": 142,
   "outputs": [],
   "id": "4fa9e3bb-b8a0-45ba-a6d9-733c375c6281"
  },
  {
   "cell_type": "code",
   "execution_count": 143,
   "outputs": [
    {
     "ename": "OperationalError",
     "evalue": "table \"order\" already exists",
     "output_type": "error",
     "traceback": [
      "\u001B[0;31m---------------------------------------------------------------------------\u001B[0m",
      "\u001B[0;31mOperationalError\u001B[0m                          Traceback (most recent call last)",
      "Cell \u001B[0;32mIn[143], line 1\u001B[0m\n\u001B[0;32m----> 1\u001B[0m \u001B[43morder_repo\u001B[49m\u001B[38;5;241;43m.\u001B[39;49m\u001B[43msetup\u001B[49m\u001B[43m(\u001B[49m\u001B[43m)\u001B[49m\n",
      "Cell \u001B[0;32mIn[135], line 46\u001B[0m, in \u001B[0;36mSqliteProtocolOrderRepository.setup\u001B[0;34m(self)\u001B[0m\n\u001B[1;32m     45\u001B[0m \u001B[38;5;28;01mdef\u001B[39;00m \u001B[38;5;21msetup\u001B[39m(\u001B[38;5;28mself\u001B[39m):\n\u001B[0;32m---> 46\u001B[0m     \u001B[38;5;28;43mself\u001B[39;49m\u001B[38;5;241;43m.\u001B[39;49m\u001B[43m_con\u001B[49m\u001B[38;5;241;43m.\u001B[39;49m\u001B[43mexecute\u001B[49m\u001B[43m(\u001B[49m\u001B[38;5;124;43m\"\"\"\u001B[39;49m\n\u001B[1;32m     47\u001B[0m \u001B[38;5;124;43m        CREATE TABLE \u001B[39;49m\u001B[38;5;124;43m\"\u001B[39;49m\u001B[38;5;124;43morder\u001B[39;49m\u001B[38;5;124;43m\"\u001B[39;49m\u001B[38;5;124;43m (\u001B[39;49m\n\u001B[1;32m     48\u001B[0m \u001B[38;5;124;43m        \u001B[39;49m\u001B[38;5;124;43m\"\u001B[39;49m\u001B[38;5;124;43mid\u001B[39;49m\u001B[38;5;124;43m\"\u001B[39;49m\u001B[38;5;124;43m INTEGER NOT NULL UNIQUE,\u001B[39;49m\n\u001B[1;32m     49\u001B[0m \u001B[38;5;124;43m        \u001B[39;49m\u001B[38;5;124;43m\"\u001B[39;49m\u001B[38;5;124;43morder_lines\u001B[39;49m\u001B[38;5;124;43m\"\u001B[39;49m\u001B[38;5;124;43m TEXT NOT NULL,\u001B[39;49m\n\u001B[1;32m     50\u001B[0m \u001B[38;5;124;43m        \u001B[39;49m\u001B[38;5;124;43m\"\u001B[39;49m\u001B[38;5;124;43moverall_price\u001B[39;49m\u001B[38;5;124;43m\"\u001B[39;49m\u001B[38;5;124;43m INTEGER NOT NULL,\u001B[39;49m\n\u001B[1;32m     51\u001B[0m \u001B[38;5;124;43m        PRIMARY KEY(\u001B[39;49m\u001B[38;5;124;43m\"\u001B[39;49m\u001B[38;5;124;43mid\u001B[39;49m\u001B[38;5;124;43m\"\u001B[39;49m\u001B[38;5;124;43m)\u001B[39;49m\n\u001B[1;32m     52\u001B[0m \u001B[38;5;124;43m        );\u001B[39;49m\n\u001B[1;32m     53\u001B[0m \u001B[38;5;124;43m    \u001B[39;49m\u001B[38;5;124;43m\"\"\"\u001B[39;49m\u001B[43m)\u001B[49m\n\u001B[1;32m     54\u001B[0m     \u001B[38;5;28mself\u001B[39m\u001B[38;5;241m.\u001B[39m_con\u001B[38;5;241m.\u001B[39mcommit()\n\u001B[1;32m     55\u001B[0m     \u001B[38;5;28mself\u001B[39m\u001B[38;5;241m.\u001B[39m_con\u001B[38;5;241m.\u001B[39mclose()\n",
      "\u001B[0;31mOperationalError\u001B[0m: table \"order\" already exists"
     ]
    }
   ],
   "source": [
    "order_repo.setup()"
   ],
   "metadata": {
    "collapsed": false,
    "pycharm": {
     "name": "#%%\n"
    }
   }
  },
  {
   "cell_type": "code",
   "execution_count": 144,
   "outputs": [
    {
     "ename": "AttributeError",
     "evalue": "'list' object has no attribute 'json'",
     "output_type": "error",
     "traceback": [
      "\u001B[0;31m---------------------------------------------------------------------------\u001B[0m",
      "\u001B[0;31mAttributeError\u001B[0m                            Traceback (most recent call last)",
      "Cell \u001B[0;32mIn[144], line 1\u001B[0m\n\u001B[0;32m----> 1\u001B[0m \u001B[43morder_repo\u001B[49m\u001B[38;5;241;43m.\u001B[39;49m\u001B[43madd\u001B[49m\u001B[43m(\u001B[49m\u001B[43morder_1\u001B[49m\u001B[43m)\u001B[49m\n",
      "Cell \u001B[0;32mIn[135], line 58\u001B[0m, in \u001B[0;36mSqliteProtocolOrderRepository.add\u001B[0;34m(self, order)\u001B[0m\n\u001B[1;32m     57\u001B[0m \u001B[38;5;28;01mdef\u001B[39;00m \u001B[38;5;21madd\u001B[39m(\u001B[38;5;28mself\u001B[39m, order: Order) \u001B[38;5;241m-\u001B[39m\u001B[38;5;241m>\u001B[39m \u001B[38;5;28;01mNone\u001B[39;00m:\n\u001B[0;32m---> 58\u001B[0m     \u001B[38;5;28mself\u001B[39m\u001B[38;5;241m.\u001B[39m_con\u001B[38;5;241m.\u001B[39mexecute(\u001B[38;5;124mf\u001B[39m\u001B[38;5;124m\"\u001B[39m\u001B[38;5;124mINSERT INTO order (id, order_lines, overall_price) VALUES(\u001B[39m\u001B[38;5;132;01m{\u001B[39;00morder\u001B[38;5;241m.\u001B[39mid\u001B[38;5;132;01m}\u001B[39;00m\u001B[38;5;124m, \u001B[39m\u001B[38;5;132;01m{\u001B[39;00m\u001B[43morder\u001B[49m\u001B[38;5;241;43m.\u001B[39;49m\u001B[43morder_lines\u001B[49m\u001B[38;5;241;43m.\u001B[39;49m\u001B[43mjson\u001B[49m()\u001B[38;5;132;01m}\u001B[39;00m\u001B[38;5;124m, \u001B[39m\u001B[38;5;132;01m{\u001B[39;00morder\u001B[38;5;241m.\u001B[39moverall_price\u001B[38;5;132;01m}\u001B[39;00m\u001B[38;5;124m);\u001B[39m\u001B[38;5;124m\"\u001B[39m)\n\u001B[1;32m     59\u001B[0m     \u001B[38;5;28mself\u001B[39m\u001B[38;5;241m.\u001B[39m_con\u001B[38;5;241m.\u001B[39mcommit()\n\u001B[1;32m     60\u001B[0m     \u001B[38;5;28mself\u001B[39m\u001B[38;5;241m.\u001B[39m_con\u001B[38;5;241m.\u001B[39mclose()\n",
      "\u001B[0;31mAttributeError\u001B[0m: 'list' object has no attribute 'json'"
     ]
    }
   ],
   "source": [
    "order_repo.add(order_1)"
   ],
   "metadata": {
    "collapsed": false,
    "pycharm": {
     "name": "#%%\n"
    }
   }
  },
  {
   "cell_type": "code",
   "execution_count": 82,
   "outputs": [
    {
     "data": {
      "text/plain": "'{\"id\": 1, \"order_lines\": [{\"product\": {\"product_number\": 11, \"price\": 100}, \"product_count\": 1}, {\"product\": {\"product_number\": 12, \"price\": 200}, \"product_count\": 2}], \"overall_price\": 500}'"
     },
     "execution_count": 82,
     "metadata": {},
     "output_type": "execute_result"
    }
   ],
   "source": [
    "order_1.json()"
   ],
   "metadata": {
    "collapsed": false,
    "pycharm": {
     "name": "#%%\n"
    }
   }
  },
  {
   "cell_type": "code",
   "execution_count": 77,
   "outputs": [
    {
     "ename": "AttributeError",
     "evalue": "'list' object has no attribute 'json'",
     "output_type": "error",
     "traceback": [
      "\u001B[0;31m---------------------------------------------------------------------------\u001B[0m",
      "\u001B[0;31mAttributeError\u001B[0m                            Traceback (most recent call last)",
      "Cell \u001B[0;32mIn[77], line 1\u001B[0m\n\u001B[0;32m----> 1\u001B[0m \u001B[43morder_1\u001B[49m\u001B[38;5;241;43m.\u001B[39;49m\u001B[43morder_lines\u001B[49m\u001B[38;5;241;43m.\u001B[39;49m\u001B[43mjson\u001B[49m()\n",
      "\u001B[0;31mAttributeError\u001B[0m: 'list' object has no attribute 'json'"
     ]
    }
   ],
   "source": [
    "order_1.order_lines.json()"
   ],
   "metadata": {
    "collapsed": false,
    "pycharm": {
     "name": "#%%\n"
    }
   }
  },
  {
   "cell_type": "code",
   "execution_count": 78,
   "outputs": [
    {
     "data": {
      "text/plain": "[OrderLine(product=Product(product_number=11, price=100), product_count=1),\n OrderLine(product=Product(product_number=12, price=200), product_count=2)]"
     },
     "execution_count": 78,
     "metadata": {},
     "output_type": "execute_result"
    }
   ],
   "source": [
    "order_1.order_lines"
   ],
   "metadata": {
    "collapsed": false,
    "pycharm": {
     "name": "#%%\n"
    }
   }
  },
  {
   "cell_type": "code",
   "execution_count": 79,
   "outputs": [
    {
     "data": {
      "text/plain": "['{\"product\": {\"product_number\": 11, \"price\": 100}, \"product_count\": 1}',\n '{\"product\": {\"product_number\": 12, \"price\": 200}, \"product_count\": 2}']"
     },
     "execution_count": 79,
     "metadata": {},
     "output_type": "execute_result"
    }
   ],
   "source": [
    "orders_jsonifiable = []\n",
    "for order in order_1.order_lines:\n",
    "    orders_jsonifiable.append(order.json())\n",
    "orders_jsonifiable"
   ],
   "metadata": {
    "collapsed": false,
    "pycharm": {
     "name": "#%%\n"
    }
   }
  },
  {
   "cell_type": "code",
   "execution_count": 81,
   "outputs": [
    {
     "data": {
      "text/plain": "'[\"{\\\\\"product\\\\\": {\\\\\"product_number\\\\\": 11, \\\\\"price\\\\\": 100}, \\\\\"product_count\\\\\": 1}\", \"{\\\\\"product\\\\\": {\\\\\"product_number\\\\\": 12, \\\\\"price\\\\\": 200}, \\\\\"product_count\\\\\": 2}\"]'"
     },
     "execution_count": 81,
     "metadata": {},
     "output_type": "execute_result"
    }
   ],
   "source": [
    "json.dumps(orders_jsonifiable)"
   ],
   "metadata": {
    "collapsed": false,
    "pycharm": {
     "name": "#%%\n"
    }
   }
  },
  {
   "cell_type": "code",
   "execution_count": null,
   "outputs": [],
   "source": [],
   "metadata": {
    "collapsed": false,
    "pycharm": {
     "name": "#%%\n"
    }
   }
  }
 ]
}