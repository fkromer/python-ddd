{
 "cells": [
  {
   "cell_type": "code",
   "execution_count": 1,
   "outputs": [],
   "source": [
    "# production code\n",
    "from pydantic import BaseModel, validator\n",
    "\n",
    "from typing import List\n",
    "\n",
    "\n",
    "# base classes\n",
    "\n",
    "class ValueObject(BaseModel):\n",
    "    \"\"\"\n",
    "    Value objects:\n",
    "\n",
    "    - Are not unique.\n",
    "    - Are immutable. Their data (class attributes) may not change over time.\n",
    "    - May only contain business logic w.r.t. data (class attribute) validation (defensive programming).\n",
    "\n",
    "    ATTENTION:\n",
    "    As long as the frozen config option is in beta (https://docs.pydantic.dev/usage/model_config/#options)\n",
    "    it's safer to use pydantic.dataclasses.dataclass (drop-in replacement for dataclasses with validation and de-/serialization)\n",
    "    instead. Support for inheritance with dataclass is very limited however and you cannot inherit from a parent dataclass then.\n",
    "\n",
    "    from pydantic.dataclasses import dataclass\n",
    "\n",
    "    @dataclass(frozen=True)\n",
    "    class OrderLine:\n",
    "        ...\n",
    "\n",
    "    \"\"\"\n",
    "    ...\n",
    "\n",
    "    class Config:\n",
    "        frozen = True\n",
    "\n",
    "\n",
    "class Entity(BaseModel):\n",
    "    \"\"\"Entities:\n",
    "\n",
    "    - Are unique. Represent domain objects which are unique over time.\n",
    "    - Are mutable. Their data (class attributes) may change over time.\n",
    "    - May only contain business logic w.r.t. data (class attribute) validation (defensive programming).\n",
    "    \"\"\"\n",
    "    ...\n",
    "\n",
    "\n",
    "class AggregateRoot(Entity):\n",
    "    \"\"\"AggregateRoot:\n",
    "\n",
    "    - Is an entity which acts as aggregate root.\n",
    "    - Are mutable. Their data (class attributes) may change over time.\n",
    "    - Must provide methods which allow to change it's data.\n",
    "    - Must contain business logic which enforces data integrity.\n",
    "    \"\"\"\n",
    "    ...\n",
    "\n",
    "\n",
    "# entities\n",
    "\n",
    "class Order(AggregateRoot):\n",
    "    \"\"\"\n",
    "    Data integrity requirements:\n",
    "    - Ensures that order lines of the same products are summarized (instead of new order lines with same product_ids added).\n",
    "    - Ensures that overall_price is consistent with the sum of product prices of all order lines.\n",
    "    \"\"\"\n",
    "    order_lines: List['OrderLine'] = []  # We cannot use set() here cause OrderLine contains mutable products.\n",
    "    overall_price: int = 0\n",
    "\n",
    "    def add_order_line(self, order_line: 'OrderLine') -> None:\n",
    "        for index, existing_order_line in enumerate(self.order_lines):\n",
    "            if order_line.product.product_number == existing_order_line.product.product_number:\n",
    "                # Increase product count of existing order line instead of adding a new order line with the same product.\n",
    "                # Cause order lines are immutable value objects we need to create a new one and remove the old one.\n",
    "                self.order_lines.append(\n",
    "                    OrderLine(\n",
    "                        product=Product(product_number=existing_order_line.product.product_number, price=existing_order_line.product.price),\n",
    "                        product_count=existing_order_line.product_count + order_line.product_count,\n",
    "                    )\n",
    "                )\n",
    "                self.order_lines.remove(existing_order_line)\n",
    "                # Ensure data integrity of overall_price.\n",
    "                self.overall_price += order_line.product_count * order_line.product.price\n",
    "                return\n",
    "        self.order_lines.append(order_line)\n",
    "        # Ensure data integrity of overall_price.\n",
    "        self.overall_price += order_line.product_count * order_line.product.price\n",
    "\n",
    "    def remove_order_line(self, product_number: int) -> None:\n",
    "        for index, existing_order_line in enumerate(self.order_lines):\n",
    "            if product_number == existing_order_line.product.product_number:\n",
    "                self.order_lines.remove(existing_order_line)\n",
    "                # Ensure data integrity of overall_price.\n",
    "                self.overall_price -= existing_order_line.product_count * existing_order_line.product.price\n",
    "                return\n",
    "        return\n",
    "\n",
    "\n",
    "class Product(Entity):\n",
    "    \"\"\"\n",
    "    Uniqueness:\n",
    "    - Is unique cause of product_number uniquely identifying a product.\n",
    "\n",
    "    Mutability:\n",
    "    - Price of product can change over time.\n",
    "    \"\"\"\n",
    "    product_number: int\n",
    "    price: int\n",
    "\n",
    "    @validator('product_number')\n",
    "    def validate_product_number(cls, value):\n",
    "        product_number_min = 0\n",
    "        product_number_max = 999999\n",
    "        if value < product_number_min or value > product_number_max:\n",
    "            raise ValueError(f'product_number is {value} but must be between {product_number_min} and {product_number_max}.')\n",
    "        return value\n",
    "\n",
    "    @validator('price')\n",
    "    def validate_price(cls, value):\n",
    "        price_min = 1\n",
    "        if value < price_min:\n",
    "            raise ValueError(f'price is {value} but must be at least {price_min}.')\n",
    "        return value\n",
    "\n",
    "# value objects\n",
    "\n",
    "class OrderLine(ValueObject):\n",
    "    \"\"\"\n",
    "    Note:\n",
    "        Value object may not change over time itself (mutability: immutable) but data it contains (product)\n",
    "        refers to a data type whose data may change over time (product.price).\n",
    "    \"\"\"\n",
    "    product: 'Product'\n",
    "    product_count: int\n",
    "\n",
    "    @validator('product_count', always=True)\n",
    "    def validate_product_count(cls, value):\n",
    "        if value <= 0:\n",
    "            raise ValueError(f'product_count is {value} but must be greater than 0.')\n",
    "        return value"
   ],
   "metadata": {
    "collapsed": false,
    "pycharm": {
     "name": "#%%\n"
    }
   }
  },
  {
   "cell_type": "markdown",
   "source": [
    "It's should not be possible to create invalid entities (`Product`)."
   ],
   "metadata": {
    "collapsed": false,
    "pycharm": {
     "name": "#%% md\n"
    }
   }
  },
  {
   "cell_type": "code",
   "execution_count": 2,
   "outputs": [
    {
     "ename": "ValidationError",
     "evalue": "1 validation error for Product\nprice\n  field required (type=value_error.missing)",
     "output_type": "error",
     "traceback": [
      "\u001B[0;31m---------------------------------------------------------------------------\u001B[0m",
      "\u001B[0;31mValidationError\u001B[0m                           Traceback (most recent call last)",
      "Cell \u001B[0;32mIn[2], line 1\u001B[0m\n\u001B[0;32m----> 1\u001B[0m \u001B[43mProduct\u001B[49m\u001B[43m(\u001B[49m\u001B[43mproduct_number\u001B[49m\u001B[38;5;241;43m=\u001B[39;49m\u001B[38;5;241;43m123456\u001B[39;49m\u001B[43m)\u001B[49m\n",
      "File \u001B[0;32m~/weekend/python-ddd/venv/lib/python3.10/site-packages/pydantic/main.py:342\u001B[0m, in \u001B[0;36mpydantic.main.BaseModel.__init__\u001B[0;34m()\u001B[0m\n",
      "\u001B[0;31mValidationError\u001B[0m: 1 validation error for Product\nprice\n  field required (type=value_error.missing)"
     ]
    }
   ],
   "source": [
    "Product(product_number=123456)"
   ],
   "metadata": {
    "collapsed": false,
    "pycharm": {
     "name": "#%%\n"
    }
   }
  },
  {
   "cell_type": "code",
   "execution_count": null,
   "outputs": [],
   "source": [
    "Product(product_number=123456, price=-1)"
   ],
   "metadata": {
    "collapsed": false,
    "pycharm": {
     "name": "#%%\n"
    }
   }
  },
  {
   "cell_type": "code",
   "execution_count": null,
   "outputs": [],
   "source": [
    "Product(product_number=1000000, price=1)"
   ],
   "metadata": {
    "collapsed": false,
    "pycharm": {
     "name": "#%%\n"
    }
   }
  },
  {
   "cell_type": "markdown",
   "source": [
    "Valid entities (`Product`) ..."
   ],
   "metadata": {
    "collapsed": false,
    "pycharm": {
     "name": "#%% md\n"
    }
   }
  },
  {
   "cell_type": "code",
   "execution_count": null,
   "outputs": [],
   "source": [
    "first_product = Product(product_number=123456, price=1)\n",
    "first_product"
   ],
   "metadata": {
    "collapsed": false,
    "pycharm": {
     "name": "#%%\n"
    }
   }
  },
  {
   "cell_type": "markdown",
   "source": [
    "... may be changed after creation."
   ],
   "metadata": {
    "collapsed": false,
    "pycharm": {
     "name": "#%% md\n"
    }
   }
  },
  {
   "cell_type": "code",
   "execution_count": null,
   "outputs": [],
   "source": [
    "first_product.price = 2\n",
    "first_product"
   ],
   "metadata": {
    "collapsed": false,
    "pycharm": {
     "name": "#%%\n"
    }
   }
  },
  {
   "cell_type": "markdown",
   "source": [
    "It should not be possible to create invalid value objects (`OrderLine`) as well."
   ],
   "metadata": {
    "collapsed": false,
    "pycharm": {
     "name": "#%% md\n"
    }
   }
  },
  {
   "cell_type": "code",
   "execution_count": null,
   "outputs": [],
   "source": [
    "OrderLine(product=Product(product_number=123456, price=100), product_count=0)"
   ],
   "metadata": {
    "collapsed": false,
    "pycharm": {
     "name": "#%%\n"
    }
   }
  },
  {
   "cell_type": "markdown",
   "source": [
    "Valid value objects (`OrderLine`) ..."
   ],
   "metadata": {
    "collapsed": false,
    "pycharm": {
     "name": "#%% md\n"
    }
   }
  },
  {
   "cell_type": "code",
   "execution_count": null,
   "outputs": [],
   "source": [
    "immutable_order_line = OrderLine(product=Product(product_number=123456, price=100), product_count=1)\n",
    "immutable_order_line"
   ],
   "metadata": {
    "collapsed": false,
    "pycharm": {
     "name": "#%%\n"
    }
   }
  },
  {
   "cell_type": "markdown",
   "source": [
    "... may not be changed after creation."
   ],
   "metadata": {
    "collapsed": false,
    "pycharm": {
     "name": "#%% md\n"
    }
   }
  },
  {
   "cell_type": "code",
   "execution_count": null,
   "outputs": [],
   "source": [
    "immutable_order_line.product_count = 2"
   ],
   "metadata": {
    "collapsed": false,
    "pycharm": {
     "name": "#%%\n"
    }
   }
  },
  {
   "cell_type": "markdown",
   "source": [
    "The entity acting as aggregate root..."
   ],
   "metadata": {
    "collapsed": false,
    "pycharm": {
     "name": "#%% md\n"
    }
   }
  },
  {
   "cell_type": "code",
   "source": [
    "order = Order()\n",
    "order"
   ],
   "metadata": {
    "collapsed": false,
    "pycharm": {
     "name": "#%%\n"
    }
   },
   "execution_count": null,
   "outputs": []
  },
  {
   "cell_type": "markdown",
   "source": [
    "...allows to add data and keeps overall_price in sync with single order lines (`1*100 + 2*200 -> 500`)..."
   ],
   "metadata": {
    "collapsed": false,
    "pycharm": {
     "name": "#%% md\n"
    }
   }
  },
  {
   "cell_type": "code",
   "execution_count": null,
   "outputs": [],
   "source": [
    "order.add_order_line(OrderLine(product=Product(product_number=123456, price=100), product_count=1))\n",
    "order.add_order_line(OrderLine(product=Product(product_number=654321, price=200), product_count=2))\n",
    "order"
   ],
   "metadata": {
    "collapsed": false,
    "pycharm": {
     "name": "#%%\n"
    }
   }
  },
  {
   "cell_type": "markdown",
   "source": [
    "...keeps order lines consistent w.r.t. product numbers (product count of already existing order line is increased instead of new order line with same product number added) and overall price is still in sync (`100*1 + 200*3 -> 700`)."
   ],
   "metadata": {
    "collapsed": false,
    "pycharm": {
     "name": "#%% md\n"
    }
   }
  },
  {
   "cell_type": "code",
   "execution_count": null,
   "outputs": [],
   "source": [
    "order.add_order_line(OrderLine(product=Product(product_number=654321, price=200), product_count=1))\n",
    "order"
   ],
   "metadata": {
    "collapsed": false,
    "pycharm": {
     "name": "#%%\n"
    }
   }
  },
  {
   "cell_type": "markdown",
   "source": [
    "We can remove orders as well and overall price is still in sync."
   ],
   "metadata": {
    "collapsed": false,
    "pycharm": {
     "name": "#%% md\n"
    }
   }
  },
  {
   "cell_type": "code",
   "execution_count": null,
   "outputs": [],
   "source": [
    "order.remove_order_line(123456)\n",
    "order"
   ],
   "metadata": {
    "collapsed": false,
    "pycharm": {
     "name": "#%%\n"
    }
   }
  }
 ],
 "metadata": {
  "kernelspec": {
   "display_name": "Python 3",
   "language": "python",
   "name": "python3"
  },
  "language_info": {
   "codemirror_mode": {
    "name": "ipython",
    "version": 2
   },
   "file_extension": ".py",
   "mimetype": "text/x-python",
   "name": "python",
   "nbconvert_exporter": "python",
   "pygments_lexer": "ipython2",
   "version": "2.7.6"
  }
 },
 "nbformat": 4,
 "nbformat_minor": 0
}